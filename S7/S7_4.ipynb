{
  "nbformat": 4,
  "nbformat_minor": 0,
  "metadata": {
    "kernelspec": {
      "name": "python3",
      "display_name": "Python 3"
    },
    "language_info": {
      "codemirror_mode": {
        "name": "ipython",
        "version": 3
      },
      "file_extension": ".py",
      "mimetype": "text/x-python",
      "name": "python",
      "nbconvert_exporter": "python",
      "pygments_lexer": "ipython3",
      "version": "3.6.6"
    },
    "colab": {
      "name": "S7_4.ipynb",
      "provenance": [],
      "collapsed_sections": [],
      "include_colab_link": true
    },
    "accelerator": "GPU",
    "widgets": {
      "application/vnd.jupyter.widget-state+json": {
        "1a57db682ec8471b89e87204cf6a5471": {
          "model_module": "@jupyter-widgets/controls",
          "model_name": "HBoxModel",
          "state": {
            "_view_name": "HBoxView",
            "_dom_classes": [],
            "_model_name": "HBoxModel",
            "_view_module": "@jupyter-widgets/controls",
            "_model_module_version": "1.5.0",
            "_view_count": null,
            "_view_module_version": "1.5.0",
            "box_style": "",
            "layout": "IPY_MODEL_e9e6bb9a544048cf9d3eb056cffb3652",
            "_model_module": "@jupyter-widgets/controls",
            "children": [
              "IPY_MODEL_f991d2d3ded64c668aa4f0811964ff1b",
              "IPY_MODEL_dd5df7389d3d412b9c74419dcb1bb46a"
            ]
          }
        },
        "e9e6bb9a544048cf9d3eb056cffb3652": {
          "model_module": "@jupyter-widgets/base",
          "model_name": "LayoutModel",
          "state": {
            "_view_name": "LayoutView",
            "grid_template_rows": null,
            "right": null,
            "justify_content": null,
            "_view_module": "@jupyter-widgets/base",
            "overflow": null,
            "_model_module_version": "1.2.0",
            "_view_count": null,
            "flex_flow": null,
            "width": null,
            "min_width": null,
            "border": null,
            "align_items": null,
            "bottom": null,
            "_model_module": "@jupyter-widgets/base",
            "top": null,
            "grid_column": null,
            "overflow_y": null,
            "overflow_x": null,
            "grid_auto_flow": null,
            "grid_area": null,
            "grid_template_columns": null,
            "flex": null,
            "_model_name": "LayoutModel",
            "justify_items": null,
            "grid_row": null,
            "max_height": null,
            "align_content": null,
            "visibility": null,
            "align_self": null,
            "height": null,
            "min_height": null,
            "padding": null,
            "grid_auto_rows": null,
            "grid_gap": null,
            "max_width": null,
            "order": null,
            "_view_module_version": "1.2.0",
            "grid_template_areas": null,
            "object_position": null,
            "object_fit": null,
            "grid_auto_columns": null,
            "margin": null,
            "display": null,
            "left": null
          }
        },
        "f991d2d3ded64c668aa4f0811964ff1b": {
          "model_module": "@jupyter-widgets/controls",
          "model_name": "IntProgressModel",
          "state": {
            "_view_name": "ProgressView",
            "style": "IPY_MODEL_5545a91c7bdd45d4a09de5c98b199a73",
            "_dom_classes": [],
            "description": "",
            "_model_name": "IntProgressModel",
            "bar_style": "info",
            "max": 1,
            "_view_module": "@jupyter-widgets/controls",
            "_model_module_version": "1.5.0",
            "value": 1,
            "_view_count": null,
            "_view_module_version": "1.5.0",
            "orientation": "horizontal",
            "min": 0,
            "description_tooltip": null,
            "_model_module": "@jupyter-widgets/controls",
            "layout": "IPY_MODEL_f693f99285b24ebb8c5d23ed8522a49e"
          }
        },
        "dd5df7389d3d412b9c74419dcb1bb46a": {
          "model_module": "@jupyter-widgets/controls",
          "model_name": "HTMLModel",
          "state": {
            "_view_name": "HTMLView",
            "style": "IPY_MODEL_bca043d12f79414cb73edff4ce31814e",
            "_dom_classes": [],
            "description": "",
            "_model_name": "HTMLModel",
            "placeholder": "​",
            "_view_module": "@jupyter-widgets/controls",
            "_model_module_version": "1.5.0",
            "value": "170500096it [00:30, 13328636.45it/s]",
            "_view_count": null,
            "_view_module_version": "1.5.0",
            "description_tooltip": null,
            "_model_module": "@jupyter-widgets/controls",
            "layout": "IPY_MODEL_87058fde6c7d4c7da8ba3d0d0fba1547"
          }
        },
        "5545a91c7bdd45d4a09de5c98b199a73": {
          "model_module": "@jupyter-widgets/controls",
          "model_name": "ProgressStyleModel",
          "state": {
            "_view_name": "StyleView",
            "_model_name": "ProgressStyleModel",
            "description_width": "",
            "_view_module": "@jupyter-widgets/base",
            "_model_module_version": "1.5.0",
            "_view_count": null,
            "_view_module_version": "1.2.0",
            "bar_color": null,
            "_model_module": "@jupyter-widgets/controls"
          }
        },
        "f693f99285b24ebb8c5d23ed8522a49e": {
          "model_module": "@jupyter-widgets/base",
          "model_name": "LayoutModel",
          "state": {
            "_view_name": "LayoutView",
            "grid_template_rows": null,
            "right": null,
            "justify_content": null,
            "_view_module": "@jupyter-widgets/base",
            "overflow": null,
            "_model_module_version": "1.2.0",
            "_view_count": null,
            "flex_flow": null,
            "width": null,
            "min_width": null,
            "border": null,
            "align_items": null,
            "bottom": null,
            "_model_module": "@jupyter-widgets/base",
            "top": null,
            "grid_column": null,
            "overflow_y": null,
            "overflow_x": null,
            "grid_auto_flow": null,
            "grid_area": null,
            "grid_template_columns": null,
            "flex": null,
            "_model_name": "LayoutModel",
            "justify_items": null,
            "grid_row": null,
            "max_height": null,
            "align_content": null,
            "visibility": null,
            "align_self": null,
            "height": null,
            "min_height": null,
            "padding": null,
            "grid_auto_rows": null,
            "grid_gap": null,
            "max_width": null,
            "order": null,
            "_view_module_version": "1.2.0",
            "grid_template_areas": null,
            "object_position": null,
            "object_fit": null,
            "grid_auto_columns": null,
            "margin": null,
            "display": null,
            "left": null
          }
        },
        "bca043d12f79414cb73edff4ce31814e": {
          "model_module": "@jupyter-widgets/controls",
          "model_name": "DescriptionStyleModel",
          "state": {
            "_view_name": "StyleView",
            "_model_name": "DescriptionStyleModel",
            "description_width": "",
            "_view_module": "@jupyter-widgets/base",
            "_model_module_version": "1.5.0",
            "_view_count": null,
            "_view_module_version": "1.2.0",
            "_model_module": "@jupyter-widgets/controls"
          }
        },
        "87058fde6c7d4c7da8ba3d0d0fba1547": {
          "model_module": "@jupyter-widgets/base",
          "model_name": "LayoutModel",
          "state": {
            "_view_name": "LayoutView",
            "grid_template_rows": null,
            "right": null,
            "justify_content": null,
            "_view_module": "@jupyter-widgets/base",
            "overflow": null,
            "_model_module_version": "1.2.0",
            "_view_count": null,
            "flex_flow": null,
            "width": null,
            "min_width": null,
            "border": null,
            "align_items": null,
            "bottom": null,
            "_model_module": "@jupyter-widgets/base",
            "top": null,
            "grid_column": null,
            "overflow_y": null,
            "overflow_x": null,
            "grid_auto_flow": null,
            "grid_area": null,
            "grid_template_columns": null,
            "flex": null,
            "_model_name": "LayoutModel",
            "justify_items": null,
            "grid_row": null,
            "max_height": null,
            "align_content": null,
            "visibility": null,
            "align_self": null,
            "height": null,
            "min_height": null,
            "padding": null,
            "grid_auto_rows": null,
            "grid_gap": null,
            "max_width": null,
            "order": null,
            "_view_module_version": "1.2.0",
            "grid_template_areas": null,
            "object_position": null,
            "object_fit": null,
            "grid_auto_columns": null,
            "margin": null,
            "display": null,
            "left": null
          }
        }
      }
    }
  },
  "cells": [
    {
      "cell_type": "markdown",
      "metadata": {
        "id": "view-in-github",
        "colab_type": "text"
      },
      "source": [
        "<a href=\"https://colab.research.google.com/github/Hiranmai-T/EVA/blob/master/S7/S7_4.ipynb\" target=\"_parent\"><img src=\"https://colab.research.google.com/assets/colab-badge.svg\" alt=\"Open In Colab\"/></a>"
      ]
    },
    {
      "cell_type": "code",
      "metadata": {
        "id": "QVbdg0z4poCc",
        "colab_type": "code",
        "colab": {}
      },
      "source": [
        "%matplotlib inline"
      ],
      "execution_count": 0,
      "outputs": []
    },
    {
      "cell_type": "markdown",
      "metadata": {
        "id": "fPogbueepoCh",
        "colab_type": "text"
      },
      "source": [
        "\n",
        "Training a Classifier\n",
        "=====================\n",
        "\n",
        "This is it. You have seen how to define neural networks, compute loss and make\n",
        "updates to the weights of the network.\n",
        "\n",
        "Now you might be thinking,\n",
        "\n",
        "What about data?\n",
        "----------------\n",
        "\n",
        "Generally, when you have to deal with image, text, audio or video data,\n",
        "you can use standard python packages that load data into a numpy array.\n",
        "Then you can convert this array into a ``torch.*Tensor``.\n",
        "\n",
        "-  For images, packages such as Pillow, OpenCV are useful\n",
        "-  For audio, packages such as scipy and librosa\n",
        "-  For text, either raw Python or Cython based loading, or NLTK and\n",
        "   SpaCy are useful\n",
        "\n",
        "Specifically for vision, we have created a package called\n",
        "``torchvision``, that has data loaders for common datasets such as\n",
        "Imagenet, CIFAR10, MNIST, etc. and data transformers for images, viz.,\n",
        "``torchvision.datasets`` and ``torch.utils.data.DataLoader``.\n",
        "\n",
        "This provides a huge convenience and avoids writing boilerplate code.\n",
        "\n",
        "For this tutorial, we will use the CIFAR10 dataset.\n",
        "It has the classes: ‘airplane’, ‘automobile’, ‘bird’, ‘cat’, ‘deer’,\n",
        "‘dog’, ‘frog’, ‘horse’, ‘ship’, ‘truck’. The images in CIFAR-10 are of\n",
        "size 3x32x32, i.e. 3-channel color images of 32x32 pixels in size.\n",
        "\n",
        ".. figure:: /_static/img/cifar10.png\n",
        "   :alt: cifar10\n",
        "\n",
        "   cifar10\n",
        "\n",
        "\n",
        "Training an image classifier\n",
        "----------------------------\n",
        "\n",
        "We will do the following steps in order:\n",
        "\n",
        "1. Load and normalizing the CIFAR10 training and test datasets using\n",
        "   ``torchvision``\n",
        "2. Define a Convolution Neural Network\n",
        "3. Define a loss function\n",
        "4. Train the network on the training data\n",
        "5. Test the network on the test data\n",
        "\n",
        "1. Loading and normalizing CIFAR10\n",
        "^^^^^^^^^^^^^^^^^^^^^^^^^^^^^^^^^^\n",
        "\n",
        "Using ``torchvision``, it’s extremely easy to load CIFAR10.\n",
        "\n"
      ]
    },
    {
      "cell_type": "code",
      "metadata": {
        "id": "-yVpodAMpoCi",
        "colab_type": "code",
        "colab": {}
      },
      "source": [
        "import torch\n",
        "import torchvision\n",
        "import torchvision.transforms as transforms"
      ],
      "execution_count": 0,
      "outputs": []
    },
    {
      "cell_type": "markdown",
      "metadata": {
        "id": "5kjt4e2TpoCk",
        "colab_type": "text"
      },
      "source": [
        "The output of torchvision datasets are PILImage images of range [0, 1].\n",
        "We transform them to Tensors of normalized range [-1, 1].\n",
        "\n"
      ]
    },
    {
      "cell_type": "code",
      "metadata": {
        "id": "D8Tjigo2poCl",
        "colab_type": "code",
        "outputId": "bc28125b-e07e-4ea4-8460-e6bc7885915c",
        "colab": {
          "base_uri": "https://localhost:8080/",
          "height": 104,
          "referenced_widgets": [
            "1a57db682ec8471b89e87204cf6a5471",
            "e9e6bb9a544048cf9d3eb056cffb3652",
            "f991d2d3ded64c668aa4f0811964ff1b",
            "dd5df7389d3d412b9c74419dcb1bb46a",
            "5545a91c7bdd45d4a09de5c98b199a73",
            "f693f99285b24ebb8c5d23ed8522a49e",
            "bca043d12f79414cb73edff4ce31814e",
            "87058fde6c7d4c7da8ba3d0d0fba1547"
          ]
        }
      },
      "source": [
        "transform = transforms.Compose(\n",
        "    [transforms.ToTensor(),\n",
        "     transforms.Normalize((0.5, 0.5, 0.5), (0.5, 0.5, 0.5))])\n",
        "\n",
        "trainset = torchvision.datasets.CIFAR10(root='./data', train=True,\n",
        "                                        download=True, transform=transform)\n",
        "trainloader = torch.utils.data.DataLoader(trainset, batch_size=4,\n",
        "                                          shuffle=True, num_workers=2)\n",
        "\n",
        "testset = torchvision.datasets.CIFAR10(root='./data', train=False,\n",
        "                                       download=True, transform=transform)\n",
        "testloader = torch.utils.data.DataLoader(testset, batch_size=4,\n",
        "                                         shuffle=False, num_workers=2)\n",
        "\n",
        "classes = ('plane', 'car', 'bird', 'cat',\n",
        "           'deer', 'dog', 'frog', 'horse', 'ship', 'truck')"
      ],
      "execution_count": 3,
      "outputs": [
        {
          "output_type": "stream",
          "text": [
            "Downloading https://www.cs.toronto.edu/~kriz/cifar-10-python.tar.gz to ./data/cifar-10-python.tar.gz\n"
          ],
          "name": "stdout"
        },
        {
          "output_type": "display_data",
          "data": {
            "application/vnd.jupyter.widget-view+json": {
              "model_id": "1a57db682ec8471b89e87204cf6a5471",
              "version_minor": 0,
              "version_major": 2
            },
            "text/plain": [
              "HBox(children=(IntProgress(value=1, bar_style='info', max=1), HTML(value='')))"
            ]
          },
          "metadata": {
            "tags": []
          }
        },
        {
          "output_type": "stream",
          "text": [
            "Extracting ./data/cifar-10-python.tar.gz to ./data\n",
            "Files already downloaded and verified\n"
          ],
          "name": "stdout"
        }
      ]
    },
    {
      "cell_type": "markdown",
      "metadata": {
        "id": "_cj433rtpoCn",
        "colab_type": "text"
      },
      "source": [
        "Let us show some of the training images, for fun.\n",
        "\n"
      ]
    },
    {
      "cell_type": "code",
      "metadata": {
        "id": "daA7bADhpoCo",
        "colab_type": "code",
        "outputId": "0232ab80-7392-4afb-9ed8-917a2a26e6a1",
        "colab": {
          "base_uri": "https://localhost:8080/",
          "height": 175
        }
      },
      "source": [
        "import matplotlib.pyplot as plt\n",
        "import numpy as np\n",
        "\n",
        "# functions to show an image\n",
        "\n",
        "\n",
        "def imshow(img):\n",
        "    #Tensor.cpu()\n",
        "    img = img / 2 + 0.5     # unnormalize\n",
        "    npimg = img.cpu().numpy()\n",
        "    plt.imshow(np.transpose(npimg, (1, 2, 0)))\n",
        "\n",
        "\n",
        "# get some random training images\n",
        "dataiter = iter(trainloader)\n",
        "images, labels = dataiter.next()\n",
        "print(images[0].shape)\n",
        "# show images\n",
        "imshow(torchvision.utils.make_grid(images))\n",
        "# print labels\n",
        "print(' '.join('%5s' % classes[labels[j]] for j in range(4)))"
      ],
      "execution_count": 4,
      "outputs": [
        {
          "output_type": "stream",
          "text": [
            "torch.Size([3, 32, 32])\n",
            "truck   dog  ship  deer\n"
          ],
          "name": "stdout"
        },
        {
          "output_type": "display_data",
          "data": {
            "image/png": "[encoded data removed]",
            "text/plain": [
              "<Figure size 432x288 with 1 Axes>"
            ]
          },
          "metadata": {
            "tags": []
          }
        }
      ]
    },
    {
      "cell_type": "markdown",
      "metadata": {
        "id": "28OpHA_LpoCq",
        "colab_type": "text"
      },
      "source": [
        "2. Define a Convolution Neural Network\n",
        "^^^^^^^^^^^^^^^^^^^^^^^^^^^^^^^^^^^^^^\n",
        "Copy the neural network from the Neural Networks section before and modify it to\n",
        "take 3-channel images (instead of 1-channel images as it was defined).\n",
        "\n"
      ]
    },
    {
      "cell_type": "code",
      "metadata": {
        "id": "0jjLwLLQpoCr",
        "colab_type": "code",
        "outputId": "6f180a99-044c-4c91-eaa9-849d204fc444",
        "colab": {
          "base_uri": "https://localhost:8080/",
          "height": 690
        }
      },
      "source": [
        "import torch.nn as nn\n",
        "import torch.nn.functional as F\n",
        "dropout_value = 0.1\n",
        "#torch.nn.Conv2d(in_channels, out_channels, kernel_size, stride=1, padding=0, dilation=1, groups=1, bias=True, padding_mode='zeros')\n",
        "class Net(nn.Module):\n",
        "    def __init__(self):\n",
        "        super(Net, self).__init__()\n",
        "        # self.convblock1 = nn.Sequential(\n",
        "        #     addConv2d(in_channels=3, out_channels=16, kernel_size=(3, 3),stride=1, padding=0, bias=False),\n",
        "        #     addActivation(\"relu\"),\n",
        "        #     addBatchNorm2d(16),\n",
        "        #     addDropout(dropout_value)\n",
        "        # )\n",
        "        self.convblock1 = nn.Sequential(\n",
        "            nn.Conv2d(in_channels=3, out_channels=32, kernel_size=(3, 3),stride=1, padding=1, bias=False), #in=32  out =32 rf = 3 \n",
        "            nn.ReLU(),\n",
        "            nn.BatchNorm2d(32),\n",
        "            #nn.Conv2d(in_channels=16, out_channels=32, kernel_size=(3, 3),stride=1,dilation=2, padding=0, bias=False), \n",
        "            #nn.ReLU(),\n",
        "            #nn.BatchNorm2d(32),\n",
        "            nn.Dropout(dropout_value)\n",
        "        )\n",
        "        #maxpool1\n",
        "        \n",
        "        self.convblock2 = nn.Sequential(\n",
        "            nn.Conv2d(in_channels=32, out_channels=64, kernel_size=(3, 3),stride=1,dilation=4, padding=0, bias=False), #in = 32  out = 24  rf = 11\n",
        "            nn.ReLU(),\n",
        "            nn.BatchNorm2d(64),\n",
        "            nn.Dropout(dropout_value)\n",
        "        )\n",
        "        #maxpool2\n",
        "        self.pool1 = nn.MaxPool2d(2, 2)  #in=24  out = 12 rf = 13 \n",
        "        \n",
        "        \n",
        "        self.convblock3 = nn.Sequential(\n",
        "            nn.Conv2d(in_channels=64, out_channels=128, kernel_size=(3, 3),stride=1,groups=2, padding=1, bias=False), #in= 12  out = 12 rf = 17\n",
        "            nn.ReLU(),\n",
        "            nn.BatchNorm2d(128),\n",
        "            nn.Dropout(dropout_value)\n",
        "        )\n",
        "        #maxpool\n",
        "        self.convblock4 = nn.Sequential(\n",
        "           nn.Conv2d(in_channels=128, out_channels=64, kernel_size=(1, 1), padding=1, bias=False), #in = 12  out = 14 rf = 17 \n",
        "        )\n",
        "        self.pool2 = nn.MaxPool2d(2, 2) #in = 14  out = 7 rf = 19 \n",
        "        self.convblock5 = nn.Sequential(\n",
        "            nn.Conv2d(in_channels=64, out_channels=128, kernel_size=(3, 3),stride=1,dilation=3, padding=1, bias=False), #in = 7 out = 3 rf = 43 (19+6*4)?\n",
        "            nn.ReLU(),\n",
        "            nn.BatchNorm2d(128),\n",
        "            nn.Dropout(dropout_value)\n",
        "        )\n",
        "        self.pool3 = nn.MaxPool2d(2, 2) #in = 3  out = 1 rf = 47\n",
        "        self.convblock6 = nn.Sequential(\n",
        "           nn.Conv2d(in_channels=128, out_channels=64, kernel_size=(1, 1), padding=0, bias=False),\n",
        "        )\n",
        "        self.convblock7 = nn.Sequential(\n",
        "            nn.AvgPool2d(kernel_size=1),\n",
        "            nn.Conv2d(in_channels=64, out_channels=10, kernel_size=(1, 1), padding=0, bias=False),\n",
        "            # addConv2d(in_channels=1, out_channels=16, kernel_size=(3, 3),stride=1, padding=0, bias=False),\n",
        "            # addActivation(\"relu\"),\n",
        "            # addBatchNorm2d(16),\n",
        "            # addDropout(dropout_value)\n",
        "        )\n",
        "        # self.conv1 = nn.Conv2d(3, 6, 5)\n",
        "        # self.pool = nn.MaxPool2d(2, 2)\n",
        "        # self.conv2 = nn.Conv2d(6, 16, 5)\n",
        "        # self.fc1 = nn.Linear(16 * 5 * 5, 120)\n",
        "        # self.fc2 = nn.Linear(120, 84)\n",
        "        # self.fc3 = nn.Linear(84, 10)\n",
        "\n",
        "    def forward(self, x):\n",
        "        x = self.convblock1(x)\n",
        "        x = self.convblock2(x)\n",
        "        x = self.pool1(x)\n",
        "        x = self.convblock3(x)\n",
        "        x = self.convblock4(x)\n",
        "        x = self.pool2(x)\n",
        "        #x = self.convblock3(x)\n",
        "        x = self.convblock5(x)\n",
        "        x = self.pool3(x)\n",
        "        x = self.convblock6(x)\n",
        "        x = self.convblock7(x)\n",
        "        x = x.view(-1,10)\n",
        "        return F.log_softmax(x, dim=-1)\n",
        "        #return x\n",
        "!pip install torchsummary\n",
        "from torchsummary import summary\n",
        "use_cuda = torch.cuda.is_available()\n",
        "device = torch.device(\"cuda\" if use_cuda else \"cpu\")\n",
        "model = Net().to(device)\n",
        "summary(model, input_size=(3, 32, 32))"
      ],
      "execution_count": 11,
      "outputs": [
        {
          "output_type": "stream",
          "text": [
            "Requirement already satisfied: torchsummary in /usr/local/lib/python3.6/dist-packages (1.5.1)\n",
            "----------------------------------------------------------------\n",
            "        Layer (type)               Output Shape         Param #\n",
            "================================================================\n",
            "            Conv2d-1           [-1, 32, 32, 32]             864\n",
            "              ReLU-2           [-1, 32, 32, 32]               0\n",
            "       BatchNorm2d-3           [-1, 32, 32, 32]              64\n",
            "           Dropout-4           [-1, 32, 32, 32]               0\n",
            "            Conv2d-5           [-1, 64, 24, 24]          18,432\n",
            "              ReLU-6           [-1, 64, 24, 24]               0\n",
            "       BatchNorm2d-7           [-1, 64, 24, 24]             128\n",
            "           Dropout-8           [-1, 64, 24, 24]               0\n",
            "         MaxPool2d-9           [-1, 64, 12, 12]               0\n",
            "           Conv2d-10          [-1, 128, 12, 12]          36,864\n",
            "             ReLU-11          [-1, 128, 12, 12]               0\n",
            "      BatchNorm2d-12          [-1, 128, 12, 12]             256\n",
            "          Dropout-13          [-1, 128, 12, 12]               0\n",
            "           Conv2d-14           [-1, 64, 14, 14]           8,192\n",
            "        MaxPool2d-15             [-1, 64, 7, 7]               0\n",
            "           Conv2d-16            [-1, 128, 3, 3]          73,728\n",
            "             ReLU-17            [-1, 128, 3, 3]               0\n",
            "      BatchNorm2d-18            [-1, 128, 3, 3]             256\n",
            "          Dropout-19            [-1, 128, 3, 3]               0\n",
            "        MaxPool2d-20            [-1, 128, 1, 1]               0\n",
            "           Conv2d-21             [-1, 64, 1, 1]           8,192\n",
            "        AvgPool2d-22             [-1, 64, 1, 1]               0\n",
            "           Conv2d-23             [-1, 10, 1, 1]             640\n",
            "================================================================\n",
            "Total params: 147,616\n",
            "Trainable params: 147,616\n",
            "Non-trainable params: 0\n",
            "----------------------------------------------------------------\n",
            "Input size (MB): 0.01\n",
            "Forward/backward pass size (MB): 2.91\n",
            "Params size (MB): 0.56\n",
            "Estimated Total Size (MB): 3.49\n",
            "----------------------------------------------------------------\n"
          ],
          "name": "stdout"
        }
      ]
    },
    {
      "cell_type": "markdown",
      "metadata": {
        "id": "Wdw2NNCUpoCu",
        "colab_type": "text"
      },
      "source": [
        "3. Define a Loss function and optimizer\n",
        "^^^^^^^^^^^^^^^^^^^^^^^^^^^^^^^^^^^^^^^\n",
        "Let's use a Classification Cross-Entropy loss and SGD with momentum.\n",
        "\n"
      ]
    },
    {
      "cell_type": "code",
      "metadata": {
        "id": "M4xBbDROpoCv",
        "colab_type": "code",
        "colab": {}
      },
      "source": [
        "import torch.optim as optim\n",
        "\n",
        "criterion = nn.CrossEntropyLoss()\n",
        "optimizer = optim.SGD(model.parameters(), lr=0.001, momentum=0.9)"
      ],
      "execution_count": 0,
      "outputs": []
    },
    {
      "cell_type": "markdown",
      "metadata": {
        "id": "O-odOrhdpoC2",
        "colab_type": "text"
      },
      "source": [
        "4. Train the network\n",
        "^^^^^^^^^^^^^^^^^^^^\n",
        "\n",
        "This is when things start to get interesting.\n",
        "We simply have to loop over our data iterator, and feed the inputs to the\n",
        "network and optimize.\n",
        "\n"
      ]
    },
    {
      "cell_type": "code",
      "metadata": {
        "id": "kkuRfo1IpoC3",
        "colab_type": "code",
        "outputId": "151d8463-c013-45f5-cb81-86b085daca83",
        "colab": {
          "base_uri": "https://localhost:8080/",
          "height": 1000
        }
      },
      "source": [
        "for epoch in range(50):  # loop over the dataset multiple times\n",
        "\n",
        "    running_loss = 0.0\n",
        "    for i, (data,target) in enumerate(trainloader):\n",
        "        # get the inputs\n",
        "        inputs, labels = data.to(device),target.to(device)\n",
        "\n",
        "        # zero the parameter gradients\n",
        "        optimizer.zero_grad()\n",
        "\n",
        "        # forward + backward + optimize\n",
        "        outputs = model(inputs)\n",
        "        loss = criterion(outputs, labels)\n",
        "        loss.backward()\n",
        "        optimizer.step()\n",
        "\n",
        "        # print statistics\n",
        "        running_loss += loss.item()\n",
        "        if i % 2000 == 1999:    # print every 2000 mini-batches\n",
        "            print('[%d, %5d] loss: %.3f' %\n",
        "                  (epoch + 1, i + 1, running_loss / 2000))\n",
        "            running_loss = 0.0\n",
        "\n",
        "print('Finished Training')"
      ],
      "execution_count": 13,
      "outputs": [
        {
          "output_type": "stream",
          "text": [
            "[1,  2000] loss: 1.853\n",
            "[1,  4000] loss: 1.623\n",
            "[1,  6000] loss: 1.512\n",
            "[1,  8000] loss: 1.423\n",
            "[1, 10000] loss: 1.389\n",
            "[1, 12000] loss: 1.338\n",
            "[2,  2000] loss: 1.253\n",
            "[2,  4000] loss: 1.257\n",
            "[2,  6000] loss: 1.207\n",
            "[2,  8000] loss: 1.195\n",
            "[2, 10000] loss: 1.178\n",
            "[2, 12000] loss: 1.142\n",
            "[3,  2000] loss: 1.071\n",
            "[3,  4000] loss: 1.086\n",
            "[3,  6000] loss: 1.093\n",
            "[3,  8000] loss: 1.062\n",
            "[3, 10000] loss: 1.059\n",
            "[3, 12000] loss: 1.016\n",
            "[4,  2000] loss: 0.983\n",
            "[4,  4000] loss: 1.015\n",
            "[4,  6000] loss: 0.995\n",
            "[4,  8000] loss: 0.977\n",
            "[4, 10000] loss: 0.952\n",
            "[4, 12000] loss: 0.961\n",
            "[5,  2000] loss: 0.910\n",
            "[5,  4000] loss: 0.925\n",
            "[5,  6000] loss: 0.916\n",
            "[5,  8000] loss: 0.913\n",
            "[5, 10000] loss: 0.910\n",
            "[5, 12000] loss: 0.941\n",
            "[6,  2000] loss: 0.844\n",
            "[6,  4000] loss: 0.884\n",
            "[6,  6000] loss: 0.876\n",
            "[6,  8000] loss: 0.877\n",
            "[6, 10000] loss: 0.866\n",
            "[6, 12000] loss: 0.878\n",
            "[7,  2000] loss: 0.813\n",
            "[7,  4000] loss: 0.825\n",
            "[7,  6000] loss: 0.818\n",
            "[7,  8000] loss: 0.836\n",
            "[7, 10000] loss: 0.823\n",
            "[7, 12000] loss: 0.822\n",
            "[8,  2000] loss: 0.769\n",
            "[8,  4000] loss: 0.793\n",
            "[8,  6000] loss: 0.778\n",
            "[8,  8000] loss: 0.778\n",
            "[8, 10000] loss: 0.805\n",
            "[8, 12000] loss: 0.820\n",
            "[9,  2000] loss: 0.756\n",
            "[9,  4000] loss: 0.754\n",
            "[9,  6000] loss: 0.753\n",
            "[9,  8000] loss: 0.765\n",
            "[9, 10000] loss: 0.749\n",
            "[9, 12000] loss: 0.763\n",
            "[10,  2000] loss: 0.694\n",
            "[10,  4000] loss: 0.737\n",
            "[10,  6000] loss: 0.736\n",
            "[10,  8000] loss: 0.745\n",
            "[10, 10000] loss: 0.739\n",
            "[10, 12000] loss: 0.750\n",
            "[11,  2000] loss: 0.704\n",
            "[11,  4000] loss: 0.691\n",
            "[11,  6000] loss: 0.728\n",
            "[11,  8000] loss: 0.692\n",
            "[11, 10000] loss: 0.746\n",
            "[11, 12000] loss: 0.705\n",
            "[12,  2000] loss: 0.653\n",
            "[12,  4000] loss: 0.678\n",
            "[12,  6000] loss: 0.690\n",
            "[12,  8000] loss: 0.697\n",
            "[12, 10000] loss: 0.702\n",
            "[12, 12000] loss: 0.715\n",
            "[13,  2000] loss: 0.625\n",
            "[13,  4000] loss: 0.668\n",
            "[13,  6000] loss: 0.654\n",
            "[13,  8000] loss: 0.671\n",
            "[13, 10000] loss: 0.684\n",
            "[13, 12000] loss: 0.681\n",
            "[14,  2000] loss: 0.620\n",
            "[14,  4000] loss: 0.631\n",
            "[14,  6000] loss: 0.659\n",
            "[14,  8000] loss: 0.668\n",
            "[14, 10000] loss: 0.661\n",
            "[14, 12000] loss: 0.675\n",
            "[15,  2000] loss: 0.619\n",
            "[15,  4000] loss: 0.617\n",
            "[15,  6000] loss: 0.622\n",
            "[15,  8000] loss: 0.632\n",
            "[15, 10000] loss: 0.639\n",
            "[15, 12000] loss: 0.657\n",
            "[16,  2000] loss: 0.576\n",
            "[16,  4000] loss: 0.611\n",
            "[16,  6000] loss: 0.628\n",
            "[16,  8000] loss: 0.624\n",
            "[16, 10000] loss: 0.635\n",
            "[16, 12000] loss: 0.624\n",
            "[17,  2000] loss: 0.594\n",
            "[17,  4000] loss: 0.592\n",
            "[17,  6000] loss: 0.602\n",
            "[17,  8000] loss: 0.601\n",
            "[17, 10000] loss: 0.606\n",
            "[17, 12000] loss: 0.616\n",
            "[18,  2000] loss: 0.560\n",
            "[18,  4000] loss: 0.586\n",
            "[18,  6000] loss: 0.594\n",
            "[18,  8000] loss: 0.593\n",
            "[18, 10000] loss: 0.614\n",
            "[18, 12000] loss: 0.586\n",
            "[19,  2000] loss: 0.533\n",
            "[19,  4000] loss: 0.570\n",
            "[19,  6000] loss: 0.581\n",
            "[19,  8000] loss: 0.580\n",
            "[19, 10000] loss: 0.580\n",
            "[19, 12000] loss: 0.596\n",
            "[20,  2000] loss: 0.547\n",
            "[20,  4000] loss: 0.553\n",
            "[20,  6000] loss: 0.548\n",
            "[20,  8000] loss: 0.567\n",
            "[20, 10000] loss: 0.571\n",
            "[20, 12000] loss: 0.596\n",
            "[21,  2000] loss: 0.514\n",
            "[21,  4000] loss: 0.543\n",
            "[21,  6000] loss: 0.568\n",
            "[21,  8000] loss: 0.573\n",
            "[21, 10000] loss: 0.548\n",
            "[21, 12000] loss: 0.578\n",
            "[22,  2000] loss: 0.515\n",
            "[22,  4000] loss: 0.529\n",
            "[22,  6000] loss: 0.544\n",
            "[22,  8000] loss: 0.564\n",
            "[22, 10000] loss: 0.546\n",
            "[22, 12000] loss: 0.552\n",
            "[23,  2000] loss: 0.497\n",
            "[23,  4000] loss: 0.506\n",
            "[23,  6000] loss: 0.530\n",
            "[23,  8000] loss: 0.528\n",
            "[23, 10000] loss: 0.544\n",
            "[23, 12000] loss: 0.547\n",
            "[24,  2000] loss: 0.502\n",
            "[24,  4000] loss: 0.513\n",
            "[24,  6000] loss: 0.531\n",
            "[24,  8000] loss: 0.527\n",
            "[24, 10000] loss: 0.543\n",
            "[24, 12000] loss: 0.552\n",
            "[25,  2000] loss: 0.510\n",
            "[25,  4000] loss: 0.504\n",
            "[25,  6000] loss: 0.512\n",
            "[25,  8000] loss: 0.522\n",
            "[25, 10000] loss: 0.508\n",
            "[25, 12000] loss: 0.541\n",
            "[26,  2000] loss: 0.469\n",
            "[26,  4000] loss: 0.485\n",
            "[26,  6000] loss: 0.521\n",
            "[26,  8000] loss: 0.521\n",
            "[26, 10000] loss: 0.521\n",
            "[26, 12000] loss: 0.534\n",
            "[27,  2000] loss: 0.462\n",
            "[27,  4000] loss: 0.495\n",
            "[27,  6000] loss: 0.507\n",
            "[27,  8000] loss: 0.513\n",
            "[27, 10000] loss: 0.517\n",
            "[27, 12000] loss: 0.518\n",
            "[28,  2000] loss: 0.468\n",
            "[28,  4000] loss: 0.486\n",
            "[28,  6000] loss: 0.496\n",
            "[28,  8000] loss: 0.479\n",
            "[28, 10000] loss: 0.502\n",
            "[28, 12000] loss: 0.496\n",
            "[29,  2000] loss: 0.458\n",
            "[29,  4000] loss: 0.455\n",
            "[29,  6000] loss: 0.490\n",
            "[29,  8000] loss: 0.480\n",
            "[29, 10000] loss: 0.493\n",
            "[29, 12000] loss: 0.510\n",
            "[30,  2000] loss: 0.443\n",
            "[30,  4000] loss: 0.448\n",
            "[30,  6000] loss: 0.481\n",
            "[30,  8000] loss: 0.471\n",
            "[30, 10000] loss: 0.509\n",
            "[30, 12000] loss: 0.483\n",
            "[31,  2000] loss: 0.454\n",
            "[31,  4000] loss: 0.465\n",
            "[31,  6000] loss: 0.458\n",
            "[31,  8000] loss: 0.472\n",
            "[31, 10000] loss: 0.479\n",
            "[31, 12000] loss: 0.480\n",
            "[32,  2000] loss: 0.429\n",
            "[32,  4000] loss: 0.434\n",
            "[32,  6000] loss: 0.486\n",
            "[32,  8000] loss: 0.455\n",
            "[32, 10000] loss: 0.469\n",
            "[32, 12000] loss: 0.488\n",
            "[33,  2000] loss: 0.427\n",
            "[33,  4000] loss: 0.454\n",
            "[33,  6000] loss: 0.440\n",
            "[33,  8000] loss: 0.463\n",
            "[33, 10000] loss: 0.475\n",
            "[33, 12000] loss: 0.474\n",
            "[34,  2000] loss: 0.440\n",
            "[34,  4000] loss: 0.431\n",
            "[34,  6000] loss: 0.442\n",
            "[34,  8000] loss: 0.452\n",
            "[34, 10000] loss: 0.460\n",
            "[34, 12000] loss: 0.458\n",
            "[35,  2000] loss: 0.438\n",
            "[35,  4000] loss: 0.418\n",
            "[35,  6000] loss: 0.429\n",
            "[35,  8000] loss: 0.459\n",
            "[35, 10000] loss: 0.457\n",
            "[35, 12000] loss: 0.458\n",
            "[36,  2000] loss: 0.414\n",
            "[36,  4000] loss: 0.436\n",
            "[36,  6000] loss: 0.448\n",
            "[36,  8000] loss: 0.440\n",
            "[36, 10000] loss: 0.458\n",
            "[36, 12000] loss: 0.448\n",
            "[37,  2000] loss: 0.393\n",
            "[37,  4000] loss: 0.443\n",
            "[37,  6000] loss: 0.432\n",
            "[37,  8000] loss: 0.447\n",
            "[37, 10000] loss: 0.444\n",
            "[37, 12000] loss: 0.448\n",
            "[38,  2000] loss: 0.413\n",
            "[38,  4000] loss: 0.418\n",
            "[38,  6000] loss: 0.428\n",
            "[38,  8000] loss: 0.429\n",
            "[38, 10000] loss: 0.426\n",
            "[38, 12000] loss: 0.450\n",
            "[39,  2000] loss: 0.400\n",
            "[39,  4000] loss: 0.406\n",
            "[39,  6000] loss: 0.440\n",
            "[39,  8000] loss: 0.431\n",
            "[39, 10000] loss: 0.431\n",
            "[39, 12000] loss: 0.444\n",
            "[40,  2000] loss: 0.388\n",
            "[40,  4000] loss: 0.404\n",
            "[40,  6000] loss: 0.427\n",
            "[40,  8000] loss: 0.427\n",
            "[40, 10000] loss: 0.428\n",
            "[40, 12000] loss: 0.434\n",
            "[41,  2000] loss: 0.383\n",
            "[41,  4000] loss: 0.397\n",
            "[41,  6000] loss: 0.412\n",
            "[41,  8000] loss: 0.429\n",
            "[41, 10000] loss: 0.407\n",
            "[41, 12000] loss: 0.418\n",
            "[42,  2000] loss: 0.371\n",
            "[42,  4000] loss: 0.404\n",
            "[42,  6000] loss: 0.412\n",
            "[42,  8000] loss: 0.417\n",
            "[42, 10000] loss: 0.432\n",
            "[42, 12000] loss: 0.409\n",
            "[43,  2000] loss: 0.386\n",
            "[43,  4000] loss: 0.404\n",
            "[43,  6000] loss: 0.402\n",
            "[43,  8000] loss: 0.409\n",
            "[43, 10000] loss: 0.407\n",
            "[43, 12000] loss: 0.431\n",
            "[44,  2000] loss: 0.394\n",
            "[44,  4000] loss: 0.405\n",
            "[44,  6000] loss: 0.397\n",
            "[44,  8000] loss: 0.400\n",
            "[44, 10000] loss: 0.420\n",
            "[44, 12000] loss: 0.406\n",
            "[45,  2000] loss: 0.386\n",
            "[45,  4000] loss: 0.385\n",
            "[45,  6000] loss: 0.386\n",
            "[45,  8000] loss: 0.401\n",
            "[45, 10000] loss: 0.397\n",
            "[45, 12000] loss: 0.422\n",
            "[46,  2000] loss: 0.382\n",
            "[46,  4000] loss: 0.372\n",
            "[46,  6000] loss: 0.376\n",
            "[46,  8000] loss: 0.404\n",
            "[46, 10000] loss: 0.401\n",
            "[46, 12000] loss: 0.402\n",
            "[47,  2000] loss: 0.384\n",
            "[47,  4000] loss: 0.381\n",
            "[47,  6000] loss: 0.379\n",
            "[47,  8000] loss: 0.385\n",
            "[47, 10000] loss: 0.407\n",
            "[47, 12000] loss: 0.400\n",
            "[48,  2000] loss: 0.352\n",
            "[48,  4000] loss: 0.367\n",
            "[48,  6000] loss: 0.393\n",
            "[48,  8000] loss: 0.393\n",
            "[48, 10000] loss: 0.404\n",
            "[48, 12000] loss: 0.393\n",
            "[49,  2000] loss: 0.373\n",
            "[49,  4000] loss: 0.360\n",
            "[49,  6000] loss: 0.387\n",
            "[49,  8000] loss: 0.376\n",
            "[49, 10000] loss: 0.397\n",
            "[49, 12000] loss: 0.378\n",
            "[50,  2000] loss: 0.355\n",
            "[50,  4000] loss: 0.380\n",
            "[50,  6000] loss: 0.368\n",
            "[50,  8000] loss: 0.376\n",
            "[50, 10000] loss: 0.385\n",
            "[50, 12000] loss: 0.385\n",
            "Finished Training\n"
          ],
          "name": "stdout"
        }
      ]
    },
    {
      "cell_type": "markdown",
      "metadata": {
        "id": "YLrvL_fHpoC5",
        "colab_type": "text"
      },
      "source": [
        "5. Test the network on the test data\n",
        "^^^^^^^^^^^^^^^^^^^^^^^^^^^^^^^^^^^^\n",
        "\n",
        "We have trained the network for 2 passes over the training dataset.\n",
        "But we need to check if the network has learnt anything at all.\n",
        "\n",
        "We will check this by predicting the class label that the neural network\n",
        "outputs, and checking it against the ground-truth. If the prediction is\n",
        "correct, we add the sample to the list of correct predictions.\n",
        "\n",
        "Okay, first step. Let us display an image from the test set to get familiar.\n",
        "\n"
      ]
    },
    {
      "cell_type": "code",
      "metadata": {
        "id": "nizbsvw9poC6",
        "colab_type": "code",
        "outputId": "b708b095-0922-4119-fa68-03a9616b7d76",
        "colab": {
          "base_uri": "https://localhost:8080/",
          "height": 156
        }
      },
      "source": [
        "dataiter = iter(testloader)\n",
        "images, labels = dataiter.next()\n",
        "\n",
        "# print images\n",
        "imshow(torchvision.utils.make_grid(images.to(device)))\n",
        "print('GroundTruth: ', ' '.join('%5s' % classes[labels[j].to(device)] for j in range(4)))"
      ],
      "execution_count": 14,
      "outputs": [
        {
          "output_type": "stream",
          "text": [
            "GroundTruth:    cat  ship  ship plane\n"
          ],
          "name": "stdout"
        },
        {
          "output_type": "display_data",
          "data": {
            "image/png": "[encoded data removed]",
            "text/plain": [
              "<Figure size 432x288 with 1 Axes>"
            ]
          },
          "metadata": {
            "tags": []
          }
        }
      ]
    },
    {
      "cell_type": "markdown",
      "metadata": {
        "id": "DAx4QPHVpoC8",
        "colab_type": "text"
      },
      "source": [
        "Okay, now let us see what the neural network thinks these examples above are:\n",
        "\n"
      ]
    },
    {
      "cell_type": "code",
      "metadata": {
        "id": "HVLjlssWpoC9",
        "colab_type": "code",
        "colab": {}
      },
      "source": [
        "outputs = model(images.to(device))"
      ],
      "execution_count": 0,
      "outputs": []
    },
    {
      "cell_type": "markdown",
      "metadata": {
        "id": "u8OTHZEApoC_",
        "colab_type": "text"
      },
      "source": [
        "The outputs are energies for the 10 classes.\n",
        "Higher the energy for a class, the more the network\n",
        "thinks that the image is of the particular class.\n",
        "So, let's get the index of the highest energy:\n",
        "\n"
      ]
    },
    {
      "cell_type": "code",
      "metadata": {
        "id": "ABRIDW3lpoDA",
        "colab_type": "code",
        "outputId": "0a168d12-f169-4b66-a2b5-8be2f8f08f28",
        "colab": {
          "base_uri": "https://localhost:8080/",
          "height": 35
        }
      },
      "source": [
        "_, predicted = torch.max(outputs, 1)\n",
        "\n",
        "print('Predicted: ', ' '.join('%5s' % classes[predicted[j]]\n",
        "                              for j in range(4)))"
      ],
      "execution_count": 16,
      "outputs": [
        {
          "output_type": "stream",
          "text": [
            "Predicted:    cat  ship plane plane\n"
          ],
          "name": "stdout"
        }
      ]
    },
    {
      "cell_type": "markdown",
      "metadata": {
        "id": "2TV0TXL1poDC",
        "colab_type": "text"
      },
      "source": [
        "The results seem pretty good.\n",
        "\n",
        "Let us look at how the network performs on the whole dataset.\n",
        "\n"
      ]
    },
    {
      "cell_type": "code",
      "metadata": {
        "id": "SZ4-5CESpoDD",
        "colab_type": "code",
        "outputId": "04913d7d-0283-4048-91cd-e1635c1a3136",
        "colab": {
          "base_uri": "https://localhost:8080/",
          "height": 35
        }
      },
      "source": [
        "correct = 0\n",
        "total = 0\n",
        "with torch.no_grad():\n",
        "    for data in testloader:\n",
        "        images, labels = data\n",
        "        outputs = model(images.to(device))\n",
        "        _, predicted = torch.max(outputs.data, 1)\n",
        "        total += labels.size(0)\n",
        "        correct += (predicted == labels.to(device)).sum().item()\n",
        "\n",
        "print('Accuracy of the network on the 10000 test images: %d %%' % (\n",
        "    100 * correct / total))"
      ],
      "execution_count": 17,
      "outputs": [
        {
          "output_type": "stream",
          "text": [
            "Accuracy of the network on the 10000 test images: 71 %\n"
          ],
          "name": "stdout"
        }
      ]
    },
    {
      "cell_type": "markdown",
      "metadata": {
        "id": "eDdwPBl8poDF",
        "colab_type": "text"
      },
      "source": [
        "That looks waaay better than chance, which is 10% accuracy (randomly picking\n",
        "a class out of 10 classes).\n",
        "Seems like the network learnt something.\n",
        "\n",
        "Hmmm, what are the classes that performed well, and the classes that did\n",
        "not perform well:\n",
        "\n"
      ]
    },
    {
      "cell_type": "code",
      "metadata": {
        "id": "pDNFuDEDpoDG",
        "colab_type": "code",
        "outputId": "d31e3c23-5766-4c96-de67-5e22c6cbc881",
        "colab": {
          "base_uri": "https://localhost:8080/",
          "height": 199
        }
      },
      "source": [
        "class_correct = list(0. for i in range(10))\n",
        "class_total = list(0. for i in range(10))\n",
        "with torch.no_grad():\n",
        "    for data in testloader:\n",
        "        images, labels = data\n",
        "        outputs = model(images.to(device))\n",
        "        _, predicted = torch.max(outputs, 1)\n",
        "        c = (predicted == labels.to(device)).squeeze()\n",
        "        for i in range(4):\n",
        "            label = labels[i]\n",
        "            class_correct[label] += c[i].item()\n",
        "            class_total[label] += 1\n",
        "\n",
        "\n",
        "for i in range(10):\n",
        "    print('Accuracy of %5s : %2d %%' % (\n",
        "        classes[i], 100 * class_correct[i] / class_total[i]))"
      ],
      "execution_count": 18,
      "outputs": [
        {
          "output_type": "stream",
          "text": [
            "Accuracy of plane : 80 %\n",
            "Accuracy of   car : 87 %\n",
            "Accuracy of  bird : 65 %\n",
            "Accuracy of   cat : 46 %\n",
            "Accuracy of  deer : 68 %\n",
            "Accuracy of   dog : 64 %\n",
            "Accuracy of  frog : 75 %\n",
            "Accuracy of horse : 76 %\n",
            "Accuracy of  ship : 75 %\n",
            "Accuracy of truck : 78 %\n"
          ],
          "name": "stdout"
        }
      ]
    },
    {
      "cell_type": "code",
      "metadata": {
        "id": "BeD27dzJUjv-",
        "colab_type": "code",
        "colab": {}
      },
      "source": [
        ""
      ],
      "execution_count": 0,
      "outputs": []
    }
  ]
}